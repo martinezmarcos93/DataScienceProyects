{
  "nbformat": 4,
  "nbformat_minor": 0,
  "metadata": {
    "colab": {
      "provenance": []
    },
    "kernelspec": {
      "name": "python3",
      "display_name": "Python 3"
    },
    "language_info": {
      "name": "python"
    }
  },
  "cells": [
    {
      "cell_type": "markdown",
      "source": [
        "## Calculadora de propinas ##"
      ],
      "metadata": {
        "id": "YhGULExbDYB7"
      }
    },
    {
      "cell_type": "markdown",
      "source": [
        "Desarrolla una aplicación de consola o interfaz gráfica que calcule la propina en función del monto total de la cuenta y el porcentaje de propina deseado."
      ],
      "metadata": {
        "id": "fjlwXz0pHt4c"
      }
    },
    {
      "cell_type": "code",
      "execution_count": 1,
      "metadata": {
        "colab": {
          "base_uri": "https://localhost:8080/"
        },
        "id": "Vcjs8MOaDEDs",
        "outputId": "4a154626-4feb-4269-b6b2-ff02d2db5127"
      },
      "outputs": [
        {
          "output_type": "stream",
          "name": "stdout",
          "text": [
            "Ingrese el monto total de la cuenta: 50000\n",
            "Ingrese el porcentaje de propina que desea dejar: 20\n",
            "\n",
            "Resumen:\n",
            "Monto total de la cuenta: $50000.00\n",
            "Porcentaje de propina: 20.0%\n",
            "Propina a dejar: $10000.00\n",
            "Total con propina: $60000.00\n"
          ]
        }
      ],
      "source": [
        "def calcular_propina(monto_total, porcentaje_propina):\n",
        "    propina = monto_total * (porcentaje_propina / 100)\n",
        "    total_con_propina = monto_total + propina\n",
        "    return propina, total_con_propina\n",
        "\n",
        "def main():\n",
        "    try:\n",
        "        monto_total = float(input(\"Ingrese el monto total de la cuenta: \"))\n",
        "        porcentaje_propina = float(input(\"Ingrese el porcentaje de propina que desea dejar: \"))\n",
        "\n",
        "        propina, total_con_propina = calcular_propina(monto_total, porcentaje_propina)\n",
        "\n",
        "        print(\"\\nResumen:\")\n",
        "        print(f\"Monto total de la cuenta: ${monto_total:.2f}\")\n",
        "        print(f\"Porcentaje de propina: {porcentaje_propina}%\")\n",
        "        print(f\"Propina a dejar: ${propina:.2f}\")\n",
        "        print(f\"Total con propina: ${total_con_propina:.2f}\")\n",
        "\n",
        "    except ValueError:\n",
        "        print(\"Error: Ingrese valores numéricos válidos.\")\n",
        "\n",
        "if __name__ == \"__main__\":\n",
        "    main()"
      ]
    },
    {
      "cell_type": "markdown",
      "source": [],
      "metadata": {
        "id": "t7co1vblELEL"
      }
    },
    {
      "cell_type": "markdown",
      "source": [
        "## Gestor de tareas ##"
      ],
      "metadata": {
        "id": "Ms5CpdlEDoUj"
      }
    },
    {
      "cell_type": "markdown",
      "source": [
        "Crea una aplicación que permita a los usuarios agregar, eliminar y marcar como completadas sus tareas diarias. Puedes implementar una interfaz de línea de comandos o una interfaz gráfica simple."
      ],
      "metadata": {
        "id": "k31d1IapHzfK"
      }
    },
    {
      "cell_type": "code",
      "source": [
        "class Tarea:\n",
        "    def __init__(self, descripcion, completada=False):\n",
        "        self.descripcion = descripcion\n",
        "        self.completada = completada\n",
        "\n",
        "class GestorTareas:\n",
        "    def __init__(self):\n",
        "        self.tareas = []\n",
        "\n",
        "    def agregar_tarea(self, descripcion):\n",
        "        tarea = Tarea(descripcion)\n",
        "        self.tareas.append(tarea)\n",
        "        print(f'Tarea agregada: {descripcion}')\n",
        "\n",
        "    def mostrar_tareas(self):\n",
        "        print('Lista de tareas:')\n",
        "        for i, tarea in enumerate(self.tareas, start=1):\n",
        "            estado = 'Completada' if tarea.completada else 'Pendiente'\n",
        "            print(f'{i}. {tarea.descripcion} - {estado}')\n",
        "\n",
        "    def marcar_completada(self, indice):\n",
        "        if 1 <= indice <= len(self.tareas):\n",
        "            tarea = self.tareas[indice - 1]\n",
        "            tarea.completada = True\n",
        "            print(f'Tarea marcada como completada: {tarea.descripcion}')\n",
        "        else:\n",
        "            print('Índice de tarea no válido')\n",
        "\n",
        "    def eliminar_tarea(self, indice):\n",
        "        if 1 <= indice <= len(self.tareas):\n",
        "            tarea_eliminada = self.tareas.pop(indice - 1)\n",
        "            print(f'Tarea eliminada: {tarea_eliminada.descripcion}')\n",
        "        else:\n",
        "            print('Índice de tarea no válido')\n",
        "\n",
        "# Función principal\n",
        "def main():\n",
        "    gestor_tareas = GestorTareas()\n",
        "\n",
        "    while True:\n",
        "        print('\\n--- Gestor de Tareas ---')\n",
        "        print('1. Agregar Tarea')\n",
        "        print('2. Mostrar Tareas')\n",
        "        print('3. Marcar como Completada')\n",
        "        print('4. Eliminar Tarea')\n",
        "        print('5. Salir')\n",
        "\n",
        "        opcion = input('Seleccione una opción (1-5): ')\n",
        "\n",
        "        if opcion == '1':\n",
        "            descripcion = input('Ingrese la descripción de la tarea: ')\n",
        "            gestor_tareas.agregar_tarea(descripcion)\n",
        "        elif opcion == '2':\n",
        "            gestor_tareas.mostrar_tareas()\n",
        "        elif opcion == '3':\n",
        "            indice = int(input('Ingrese el número de tarea a marcar como completada: '))\n",
        "            gestor_tareas.marcar_completada(indice)\n",
        "        elif opcion == '4':\n",
        "            indice = int(input('Ingrese el número de tarea a eliminar: '))\n",
        "            gestor_tareas.eliminar_tarea(indice)\n",
        "        elif opcion == '5':\n",
        "            print('Saliendo del gestor de tareas. ¡Hasta luego!')\n",
        "            break\n",
        "        else:\n",
        "            print('Opción no válida. Intente nuevamente.')\n",
        "\n",
        "if __name__ == \"__main__\":\n",
        "    main()\n",
        "\n"
      ],
      "metadata": {
        "colab": {
          "base_uri": "https://localhost:8080/"
        },
        "id": "2YJPhbV_DrM7",
        "outputId": "c86fb24f-8a19-48cc-81ec-38d22168577c"
      },
      "execution_count": 2,
      "outputs": [
        {
          "output_type": "stream",
          "name": "stdout",
          "text": [
            "\n",
            "--- Gestor de Tareas ---\n",
            "1. Agregar Tarea\n",
            "2. Mostrar Tareas\n",
            "3. Marcar como Completada\n",
            "4. Eliminar Tarea\n",
            "5. Salir\n",
            "Seleccione una opción (1-5): 1\n",
            "Ingrese la descripción de la tarea: Despertarse\n",
            "Tarea agregada: Despertarse\n",
            "\n",
            "--- Gestor de Tareas ---\n",
            "1. Agregar Tarea\n",
            "2. Mostrar Tareas\n",
            "3. Marcar como Completada\n",
            "4. Eliminar Tarea\n",
            "5. Salir\n",
            "Seleccione una opción (1-5): 2\n",
            "Lista de tareas:\n",
            "1. Despertarse - Pendiente\n",
            "\n",
            "--- Gestor de Tareas ---\n",
            "1. Agregar Tarea\n",
            "2. Mostrar Tareas\n",
            "3. Marcar como Completada\n",
            "4. Eliminar Tarea\n",
            "5. Salir\n",
            "Seleccione una opción (1-5): 3\n",
            "Ingrese el número de tarea a marcar como completada: 1\n",
            "Tarea marcada como completada: Despertarse\n",
            "\n",
            "--- Gestor de Tareas ---\n",
            "1. Agregar Tarea\n",
            "2. Mostrar Tareas\n",
            "3. Marcar como Completada\n",
            "4. Eliminar Tarea\n",
            "5. Salir\n",
            "Seleccione una opción (1-5): 5\n",
            "Saliendo del gestor de tareas. ¡Hasta luego!\n"
          ]
        }
      ]
    },
    {
      "cell_type": "markdown",
      "source": [
        "## Buscador de imagenes ##\n"
      ],
      "metadata": {
        "id": "W5wIVFLhESoc"
      }
    },
    {
      "cell_type": "markdown",
      "source": [
        "Utiliza una API de reconocimiento de imágenes para desarrollar una aplicación que permita a los usuarios buscar imágenes en línea según las etiquetas proporcionadas."
      ],
      "metadata": {
        "id": "r0bH-T0BH2er"
      }
    },
    {
      "cell_type": "code",
      "source": [
        "import requests\n",
        "\n",
        "def buscar_imagenes_por_etiquetas(api_key, etiquetas):\n",
        "    url = \"https://api.clarifai.com/v2/models/aaa03c23b3724a16a56b629203edc62c/outputs\"\n",
        "    headers = {\n",
        "        \"Authorization\": f\"Key {api_key}\",\n",
        "        \"Content-Type\": \"application/json\",\n",
        "    }\n",
        "\n",
        "    datos = {\n",
        "        \"inputs\": [\n",
        "            {\n",
        "                \"data\": {\n",
        "                    \"image\": {\n",
        "                        \"url\": \"https://blz-contentstack-images.akamaized.net/v3/assets/blt77f4425de611b362/bltfb727b21e793c7ad/6466b4e1d3c3ea26f40ed784/D4_Story-Launch-Trailer_Thumb_global.webp\"\n",
        "                    }\n",
        "                }\n",
        "            }\n",
        "        ],\n",
        "        \"model\": {\n",
        "            \"id\": \"aaa03c23b3724a16a56b629203edc62c\"\n",
        "        }\n",
        "    }\n",
        "\n",
        "    response = requests.post(url, json=datos, headers=headers)\n",
        "\n",
        "    if response.status_code == 200:\n",
        "        resultados = response.json()[\"outputs\"][0][\"data\"][\"concepts\"]\n",
        "        for resultado in resultados:\n",
        "            print(f\"Etiqueta: {resultado['name']}, Probabilidad: {resultado['value']}\")\n",
        "    else:\n",
        "        print(f\"Error: {response.status_code}, {response.text}\")\n",
        "\n",
        "if __name__ == \"__main__\":\n",
        "    clave_api = \"533f425b2766406db21e96dd900966d5\"\n",
        "    etiquetas_a_buscar = [\"etiqueta1\", \"etiqueta2\"]\n",
        "\n",
        "    buscar_imagenes_por_etiquetas(clave_api, etiquetas_a_buscar)\n"
      ],
      "metadata": {
        "colab": {
          "base_uri": "https://localhost:8080/"
        },
        "id": "ay9-VkxfFNvz",
        "outputId": "2193126d-f235-4314-da4b-f59c97f1781a"
      },
      "execution_count": 4,
      "outputs": [
        {
          "output_type": "stream",
          "name": "stdout",
          "text": [
            "Etiqueta: people, Probabilidad: 0.97545856\n",
            "Etiqueta: flame, Probabilidad: 0.96552646\n",
            "Etiqueta: portrait, Probabilidad: 0.9573077\n",
            "Etiqueta: dark, Probabilidad: 0.945628\n",
            "Etiqueta: one, Probabilidad: 0.9358275\n",
            "Etiqueta: woman, Probabilidad: 0.9327923\n",
            "Etiqueta: Halloween, Probabilidad: 0.92700803\n",
            "Etiqueta: light, Probabilidad: 0.919633\n",
            "Etiqueta: man, Probabilidad: 0.912995\n",
            "Etiqueta: adult, Probabilidad: 0.91293705\n",
            "Etiqueta: art, Probabilidad: 0.8871586\n",
            "Etiqueta: music, Probabilidad: 0.8861759\n",
            "Etiqueta: burnt, Probabilidad: 0.88122195\n",
            "Etiqueta: hot, Probabilidad: 0.87866414\n",
            "Etiqueta: candle, Probabilidad: 0.87170154\n",
            "Etiqueta: smoke, Probabilidad: 0.8473501\n",
            "Etiqueta: horror, Probabilidad: 0.8333419\n",
            "Etiqueta: vicious, Probabilidad: 0.8301336\n",
            "Etiqueta: scary, Probabilidad: 0.8142827\n",
            "Etiqueta: magic, Probabilidad: 0.7969115\n"
          ]
        }
      ]
    },
    {
      "cell_type": "markdown",
      "source": [
        "## Generador de contraseñas ##"
      ],
      "metadata": {
        "id": "Em4EUzhpFrWD"
      }
    },
    {
      "cell_type": "markdown",
      "source": [
        "Crea un generador de contraseñas que genere contraseñas seguras y las almacene de manera segura. Puedes implementar funciones adicionales como la capacidad de copiar la contraseña al portapapeles."
      ],
      "metadata": {
        "id": "pTi-ir5CH5bi"
      }
    },
    {
      "cell_type": "code",
      "source": [
        "pip install cryptography\n"
      ],
      "metadata": {
        "colab": {
          "base_uri": "https://localhost:8080/"
        },
        "id": "mrHi2W2eGQAq",
        "outputId": "28ee47d7-d745-4613-ac84-17b8b0271ff5"
      },
      "execution_count": 6,
      "outputs": [
        {
          "output_type": "stream",
          "name": "stdout",
          "text": [
            "Requirement already satisfied: cryptography in /usr/local/lib/python3.10/dist-packages (41.0.7)\n",
            "Requirement already satisfied: cffi>=1.12 in /usr/local/lib/python3.10/dist-packages (from cryptography) (1.16.0)\n",
            "Requirement already satisfied: pycparser in /usr/local/lib/python3.10/dist-packages (from cffi>=1.12->cryptography) (2.21)\n"
          ]
        }
      ]
    },
    {
      "cell_type": "code",
      "source": [
        "import random\n",
        "import string\n",
        "from cryptography.fernet import Fernet\n",
        "\n",
        "def generar_contrasena(longitud=12):\n",
        "    caracteres = string.ascii_letters + string.digits + string.punctuation\n",
        "    contrasena = ''.join(random.choice(caracteres) for _ in range(longitud))\n",
        "    return contrasena\n",
        "\n",
        "def encriptar_contrasena(contrasena, clave):\n",
        "    f = Fernet(clave)\n",
        "    contrasena_encriptada = f.encrypt(contrasena.encode())\n",
        "    return contrasena_encriptada\n",
        "\n",
        "def desencriptar_contrasena(contrasena_encriptada, clave):\n",
        "    f = Fernet(clave)\n",
        "    contrasena = f.decrypt(contrasena_encriptada).decode()\n",
        "    return contrasena\n",
        "\n",
        "# Generamos una clave para encriptar las contraseñas (puedes guardarla de forma segura)\n",
        "clave_maestra = Fernet.generate_key()\n",
        "\n",
        "# Generamos una contraseña y la encriptamos\n",
        "contrasena = generar_contrasena()\n",
        "contrasena_encriptada = encriptar_contrasena(contrasena, clave_maestra)\n",
        "\n",
        "# Desencriptamos la contraseña\n",
        "contrasena_desencriptada = desencriptar_contrasena(contrasena_encriptada, clave_maestra)\n",
        "\n",
        "# Imprimimos resultados\n",
        "print(f\"Contraseña generada: {contrasena}\")\n",
        "print(f\"Contraseña encriptada: {contrasena_encriptada}\")\n",
        "print(f\"Contraseña desencriptada: {contrasena_desencriptada}\")\n"
      ],
      "metadata": {
        "colab": {
          "base_uri": "https://localhost:8080/"
        },
        "id": "dnaIjdUUFuaO",
        "outputId": "53eba976-1753-44b9-f491-37411e7632cd"
      },
      "execution_count": 11,
      "outputs": [
        {
          "output_type": "stream",
          "name": "stdout",
          "text": [
            "Contraseña generada: @b=fJ0\\gr#!^\n",
            "Contraseña encriptada: b'gAAAAABlc3x1RSQRhQhPu8eXdHeSXtv7TUPe6nHGnqI5xYC1RmxddT6_IBKhrLzneq2K2flzp32Y-KxEPB41TzKod7A5S9WKxQ=='\n",
            "Contraseña desencriptada: @b=fJ0\\gr#!^\n"
          ]
        }
      ]
    },
    {
      "cell_type": "markdown",
      "source": [
        "## Adivinanzas ##"
      ],
      "metadata": {
        "id": "xtWwUN06IIVK"
      }
    },
    {
      "cell_type": "markdown",
      "source": [
        "Crea un juego simple en el que el programa elige un número aleatorio y el jugador tiene que adivinarlo. Proporciona pistas para guiar al jugador."
      ],
      "metadata": {
        "id": "5iF7n0-5JNTy"
      }
    },
    {
      "cell_type": "code",
      "source": [
        "import random\n",
        "\n",
        "def juego_adivinanza():\n",
        "    # Generar un número aleatorio entre 1 y 100\n",
        "    numero_secreto = random.randint(1, 100)\n",
        "\n",
        "    print(\"¡Bienvenido al juego de adivinanzas!\")\n",
        "    print(\"He elegido un número entre 1 y 100. ¡Adivina!\")\n",
        "\n",
        "    intentos = 0\n",
        "    while True:\n",
        "        # Solicitar al jugador que ingrese un número\n",
        "        intento = int(input(\"Tu suposición: \"))\n",
        "\n",
        "        # Incrementar el contador de intentos\n",
        "        intentos += 1\n",
        "\n",
        "        # Comparar el número ingresado con el número secreto\n",
        "        if intento == numero_secreto:\n",
        "            print(f\"¡Felicidades! ¡Has adivinado el número en {intentos} intentos!\")\n",
        "            break\n",
        "        elif intento < numero_secreto:\n",
        "            print(\"Demasiado bajo. ¡Inténtalo de nuevo!\")\n",
        "        else:\n",
        "            print(\"Demasiado alto. ¡Inténtalo de nuevo!\")\n",
        "\n",
        "# Iniciar el juego\n",
        "juego_adivinanza()\n"
      ],
      "metadata": {
        "colab": {
          "base_uri": "https://localhost:8080/"
        },
        "id": "q_5zya7rI1xC",
        "outputId": "8be1c71c-c816-4ed5-c9a3-01806da83287"
      },
      "execution_count": 12,
      "outputs": [
        {
          "output_type": "stream",
          "name": "stdout",
          "text": [
            "¡Bienvenido al juego de adivinanzas!\n",
            "He elegido un número entre 1 y 100. ¡Adivina!\n",
            "Tu suposición: 50\n",
            "Demasiado alto. ¡Inténtalo de nuevo!\n",
            "Tu suposición: 20\n",
            "Demasiado bajo. ¡Inténtalo de nuevo!\n",
            "Tu suposición: 30\n",
            "Demasiado bajo. ¡Inténtalo de nuevo!\n",
            "Tu suposición: 40\n",
            "Demasiado bajo. ¡Inténtalo de nuevo!\n",
            "Tu suposición: 44\n",
            "Demasiado bajo. ¡Inténtalo de nuevo!\n",
            "Tu suposición: 49\n",
            "¡Felicidades! ¡Has adivinado el número en 6 intentos!\n"
          ]
        }
      ]
    },
    {
      "cell_type": "markdown",
      "source": [
        "## Lista de compras ##"
      ],
      "metadata": {
        "id": "MeljBY3HJEgC"
      }
    },
    {
      "cell_type": "markdown",
      "source": [
        "Desarrolla una aplicación que permita a los usuarios crear y gestionar listas de compras. Puedes agregar funciones como la capacidad de marcar elementos como comprados y ver un resumen total."
      ],
      "metadata": {
        "id": "MR36lMVCJSbK"
      }
    },
    {
      "cell_type": "code",
      "source": [
        "class ListaDeCompras:\n",
        "    def __init__(self):\n",
        "        self.listas = {}\n",
        "\n",
        "    def agregar_lista(self, nombre_lista):\n",
        "        if nombre_lista not in self.listas:\n",
        "            self.listas[nombre_lista] = []\n",
        "\n",
        "    def agregar_item(self, nombre_lista, item):\n",
        "        if nombre_lista in self.listas:\n",
        "            self.listas[nombre_lista].append(item)\n",
        "        else:\n",
        "            print(f\"La lista '{nombre_lista}' no existe.\")\n",
        "\n",
        "    def marcar_como_comprado(self, nombre_lista, item):\n",
        "        if nombre_lista in self.listas:\n",
        "            if item in self.listas[nombre_lista]:\n",
        "                print(f\"Marcando '{item}' como comprado en la lista '{nombre_lista}'.\")\n",
        "                self.listas[nombre_lista].remove(item)\n",
        "            else:\n",
        "                print(f\"El elemento '{item}' no está en la lista '{nombre_lista}'.\")\n",
        "        else:\n",
        "            print(f\"La lista '{nombre_lista}' no existe.\")\n",
        "\n",
        "    def mostrar_resumen(self, nombre_lista):\n",
        "        if nombre_lista in self.listas:\n",
        "            print(f\"Resumen de la lista '{nombre_lista}':\")\n",
        "            for i, item in enumerate(self.listas[nombre_lista], start=1):\n",
        "                print(f\"{i}. {item}\")\n",
        "            print(f\"Total de elementos: {len(self.listas[nombre_lista])}\")\n",
        "        else:\n",
        "            print(f\"La lista '{nombre_lista}' no existe.\")\n",
        "\n",
        "\n",
        "# Ejemplo de uso\n",
        "compras_app = ListaDeCompras()\n",
        "\n",
        "compras_app.agregar_lista(\"Supermercado\")\n",
        "compras_app.agregar_item(\"Supermercado\", \"Leche\")\n",
        "compras_app.agregar_item(\"Supermercado\", \"Pan\")\n",
        "compras_app.agregar_item(\"Supermercado\", \"Huevos\")\n",
        "\n",
        "compras_app.mostrar_resumen(\"Supermercado\")\n",
        "\n",
        "compras_app.marcar_como_comprado(\"Supermercado\", \"Pan\")\n",
        "\n",
        "compras_app.mostrar_resumen(\"Supermercado\")\n"
      ],
      "metadata": {
        "colab": {
          "base_uri": "https://localhost:8080/"
        },
        "id": "cOd29C7jJGcS",
        "outputId": "c3c2ee2d-6acf-4cd8-c22f-934fdd77f457"
      },
      "execution_count": 13,
      "outputs": [
        {
          "output_type": "stream",
          "name": "stdout",
          "text": [
            "Resumen de la lista 'Supermercado':\n",
            "1. Leche\n",
            "2. Pan\n",
            "3. Huevos\n",
            "Total de elementos: 3\n",
            "Marcando 'Pan' como comprado en la lista 'Supermercado'.\n",
            "Resumen de la lista 'Supermercado':\n",
            "1. Leche\n",
            "2. Huevos\n",
            "Total de elementos: 2\n"
          ]
        }
      ]
    },
    {
      "cell_type": "markdown",
      "source": [
        "## Conversor de unidades ##"
      ],
      "metadata": {
        "id": "zKSseBmyJena"
      }
    },
    {
      "cell_type": "markdown",
      "source": [
        "Crea una herramienta que convierta unidades entre sistemas métricos e imperiales. Puedes abordar conversiones de longitud, peso, temperatura, etc."
      ],
      "metadata": {
        "id": "tEg3Ds8EJkCJ"
      }
    },
    {
      "cell_type": "code",
      "source": [
        "class ConversorUnidades:\n",
        "    @staticmethod\n",
        "    def longitud_metrica_a_imperial(metros):\n",
        "        pulgadas = metros * 39.3701\n",
        "        pies = metros * 3.28084\n",
        "        return pulgadas, pies\n",
        "\n",
        "    @staticmethod\n",
        "    def peso_metrico_a_imperial(kilogramos):\n",
        "        libras = kilogramos * 2.20462\n",
        "        onzas = kilogramos * 35.274\n",
        "        return libras, onzas\n",
        "\n",
        "    @staticmethod\n",
        "    def temperatura_celsius_a_fahrenheit(celsius):\n",
        "        fahrenheit = celsius * 9/5 + 32\n",
        "        return fahrenheit\n",
        "\n",
        "    @staticmethod\n",
        "    def convertir():\n",
        "        print(\"Selecciona la opción de conversión:\")\n",
        "        print(\"1. Longitud (metros a pulgadas y pies)\")\n",
        "        print(\"2. Peso (kilogramos a libras y onzas)\")\n",
        "        print(\"3. Temperatura (Celsius a Fahrenheit)\")\n",
        "\n",
        "        opcion = int(input(\"Ingrese el número de opción: \"))\n",
        "\n",
        "        if opcion == 1:\n",
        "            metros = float(input(\"Ingrese la longitud en metros: \"))\n",
        "            pulgadas, pies = ConversorUnidades.longitud_metrica_a_imperial(metros)\n",
        "            print(f\"{metros} metros son aproximadamente {pulgadas:.2f} pulgadas o {pies:.2f} pies.\")\n",
        "        elif opcion == 2:\n",
        "            kilogramos = float(input(\"Ingrese el peso en kilogramos: \"))\n",
        "            libras, onzas = ConversorUnidades.peso_metrico_a_imperial(kilogramos)\n",
        "            print(f\"{kilogramos} kilogramos son aproximadamente {libras:.2f} libras o {onzas:.2f} onzas.\")\n",
        "        elif opcion == 3:\n",
        "            celsius = float(input(\"Ingrese la temperatura en grados Celsius: \"))\n",
        "            fahrenheit = ConversorUnidades.temperatura_celsius_a_fahrenheit(celsius)\n",
        "            print(f\"{celsius} grados Celsius son aproximadamente {fahrenheit:.2f} grados Fahrenheit.\")\n",
        "        else:\n",
        "            print(\"Opción no válida. Por favor, selecciona una opción correcta.\")\n",
        "\n",
        "if __name__ == \"__main__\":\n",
        "    ConversorUnidades.convertir()\n"
      ],
      "metadata": {
        "colab": {
          "base_uri": "https://localhost:8080/"
        },
        "id": "sr7y-3kUJhBL",
        "outputId": "118090a0-9afe-4a34-d75b-544f9583aa81"
      },
      "execution_count": 14,
      "outputs": [
        {
          "output_type": "stream",
          "name": "stdout",
          "text": [
            "Selecciona la opción de conversión:\n",
            "1. Longitud (metros a pulgadas y pies)\n",
            "2. Peso (kilogramos a libras y onzas)\n",
            "3. Temperatura (Celsius a Fahrenheit)\n",
            "Ingrese el número de opción: 2\n",
            "Ingrese el peso en kilogramos: 50\n",
            "50.0 kilogramos son aproximadamente 110.23 libras o 1763.70 onzas.\n"
          ]
        }
      ]
    }
  ]
}